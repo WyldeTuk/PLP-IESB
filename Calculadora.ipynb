{
  "nbformat": 4,
  "nbformat_minor": 0,
  "metadata": {
    "colab": {
      "provenance": [],
      "history_visible": true,
      "authorship_tag": "ABX9TyNBbpxIRDcqTwB8tPYYSESa",
      "include_colab_link": true
    },
    "kernelspec": {
      "name": "python3",
      "display_name": "Python 3"
    },
    "language_info": {
      "name": "python"
    }
  },
  "cells": [
    {
      "cell_type": "markdown",
      "metadata": {
        "id": "view-in-github",
        "colab_type": "text"
      },
      "source": [
        "<a href=\"https://colab.research.google.com/github/WyldeTuk/PLP-IESB/blob/main/Calculadora.ipynb\" target=\"_parent\"><img src=\"https://colab.research.google.com/assets/colab-badge.svg\" alt=\"Open In Colab\"/></a>"
      ]
    },
    {
      "cell_type": "code",
      "execution_count": null,
      "metadata": {
        "colab": {
          "base_uri": "https://localhost:8080/"
        },
        "id": "BqlJFrICMq9f",
        "outputId": "9c8096ed-5a46-491b-c01f-8c10751ae6cf"
      },
      "outputs": [
        {
          "output_type": "stream",
          "name": "stdout",
          "text": [
            "Num2 eh maior do que 3!\n",
            "12\n"
          ]
        }
      ],
      "source": [
        "num1 = 2\n",
        "num2 = 10\n",
        "\n",
        "if(num2>3):\n",
        "  print(\"Num2 eh maior do que 3!\")\n",
        "\n",
        "  def minha_funcao():\n",
        "    print(num1 + num2)\n",
        "\n",
        "  minha_funcao()\n"
      ]
    },
    {
      "cell_type": "code",
      "source": [
        "num1 = int(input('Entre com o 1º valor: '))\n",
        "\n",
        "num2 = int(input('Entre com o 2º valor: '))\n",
        "\n",
        "operacao = input('selecione a operacao(+-*/): ')\n",
        "\n",
        "def soma():\n",
        "  print(num1 + num2)\n",
        "\n",
        "def subtracao():\n",
        "  print(num1 - num2)\n",
        "\n",
        "def multiplicacao():\n",
        "  print(num1 * num2)\n",
        "\n",
        "def divisao():\n",
        "  print(num1 / num2)\n",
        "\n",
        "if(operacao == '+'):\n",
        "    soma()\n",
        "\n",
        "if(operacao == '-'):\n",
        "    subtracao()\n",
        "\n",
        "if(operacao == '*'):\n",
        "    multiplicacao()\n",
        "\n",
        "if(operacao == '/'):\n",
        "    divisao()\n",
        "\n",
        "\n"
      ],
      "metadata": {
        "colab": {
          "base_uri": "https://localhost:8080/"
        },
        "id": "yyY2-GGqQAsm",
        "outputId": "a4d26f9a-477f-402f-bf13-7327b3991428"
      },
      "execution_count": 3,
      "outputs": [
        {
          "output_type": "stream",
          "name": "stdout",
          "text": [
            "Entre com o 1º valor: 8\n",
            "Entre com o 2º valor: 6\n",
            "selecione a operacao(+-*/): /\n",
            "1.3333333333333333\n"
          ]
        }
      ]
    }
  ]
}